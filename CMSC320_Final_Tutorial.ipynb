{
  "nbformat": 4,
  "nbformat_minor": 0,
  "metadata": {
    "colab": {
      "name": "CMSC320 Final Tutorial.ipynb",
      "provenance": [],
      "collapsed_sections": [],
      "toc_visible": true
    },
    "kernelspec": {
      "display_name": "Python 3",
      "name": "python3"
    }
  },
  "cells": [
    {
      "cell_type": "markdown",
      "metadata": {
        "id": "weM3OaLTcPNX"
      },
      "source": [
        "# An Introduction to Genome Analysis in Python (Data Science Tutorial)\n",
        "## Shivani Amin\n",
        "### University of Maryland, College Park\n",
        "### CSMC320: Introduction to Data Science, Fall 2020\n",
        "### Published December 21, 2020"
      ]
    },
    {
      "cell_type": "markdown",
      "metadata": {
        "id": "wYoqpt7w1OnM"
      },
      "source": [
        "All around us, there is life: the earth is incredibly diverse and there exist millions and millions of species of plants and animals and bacteria, and probably millions more that are yet to be discovered. From giant Californian coast redwoods to the African elephant to the Western honey bee to microscopic marine algae, and everything in between, the foundation for all life is the genetic code.\n",
        "\n",
        "All life is encoded in DNA (deoxyribose nucleic acid), the molecule that encodes all the information necessary to create and regulate organisms, and the hereditary information that makes each species unique. DNA is a double-stranded helix and consists of only four nucleotide bases: \n",
        "\n",
        "*   Adenine\n",
        "*   Cytosine\n",
        "*   Guanine\n",
        "*   Thymine,\n",
        "\n",
        "a long string of A's, C's, G's, and T's in each organism's genetic sequence. These four nucleotides come together intricately in the structure of DNA via chemical bonds and complementary base pairing. Adenine pairs with thymine while guanine pairs with cytosine due to their specialized chemical structures that allow them to fit together on the rungs of the DNA helical ladder. Together, this intricately structured DNA molecule provides the instructions for all living cells to be able to survive, function, and reproduce.\n",
        "\n",
        "Living organisms, especially multicellular, eukaryotic organisms are highly complex, so you can imagine that the DNA coding sequence within organisms, although only comprised of four bases, is very, very long. The size of the genome (genome = the genetic material in an organism) ranges widely among different eukaryotic organisms. Budding yeast have 12 million base pairs in their genome; the human genome is about 3 billion base pairs long; and the largest known genome size is that of a rare Japanese flower, Paris japonica, at a mind-blowing 150 billion base pairs long! If the DNA from a single cell of this flower were stretched out, it would measure to be about 300 feet from end-to-end! And that's just in a single cell! Humans have over 30 trillion cells in their body - the sheer amount of DNA within any single living organism is truly staggering!\n",
        "\n",
        "** Genetics is very cool! If you'd like to learn more about how DNA is organized and how it functions on a cellular level: check out this [lesson on DNA structure and function](https://www.khanacademy.org/test-prep/mcat/biomolecules/dna/a/dna-structure-and-function) (additional resources will also be linked at the end of this tutorial)!\n"
      ]
    },
    {
      "cell_type": "markdown",
      "metadata": {
        "id": "dQqUlkwg17LI"
      },
      "source": [
        "<table><tr>\n",
        "<td> <img src=\"https://www.ecotextile.com/images/stories/2018/October/Fabric-of-Life.JPG\" width=\"665\"/> </td>\n",
        "\n",
        "<td> <img align=\"middle\" src=https://www.nationalgeographic.com/content/dam/news/2018/04/25/dna-day-genographic/01-dna-day-genographic.ngsversion.1524655805906.adapt.1900.1.jpg width= \"700\"/> </td>\n",
        "</tr></table>\n",
        "\n",
        "<center>Sources: 1. ecotextile.com 2. nationalgeographic.com </center>\n",
        "\n"
      ]
    },
    {
      "cell_type": "markdown",
      "metadata": {
        "id": "JD4W1yMPPT1b"
      },
      "source": [
        "Thankfully, biotechnology has advanced a lot in the past couple decades, and today next-generation sequencing allows for large-scale determination of the gene sequence from a DNA sample. While previously sequencing a genome required a lot of time and resources (the Human Genome Project was a 13-year project, from 1990 to 2003, that took about $1,000,000,000 to sequence the entire human genome), next-generation sequencing allows for whole genome sequencing in just a day for a few thousand dollars. This means that we can analyze the whole genome sequence if we desire - of course we'd have to then look at 3 billion base pairs of genetic code, but this is a lot easier to work with using Python libraries, such as Pandas. So let's jump in and get our hands on some DNA!"
      ]
    },
    {
      "cell_type": "markdown",
      "metadata": {
        "id": "l8x6aqtI-QZ4"
      },
      "source": [
        "\n",
        "\n",
        "---\n",
        "\n",
        "\n",
        "# Data Collection"
      ]
    },
    {
      "cell_type": "markdown",
      "metadata": {
        "id": "iGjWHrAAVewS"
      },
      "source": [
        "As we've learned, the human genome is roughly 3 billion base pairs long, so in order to gain insight about the whole human genome at once, we'd be looking at over 3 billion A's, C's, G's, and T's on a screen. Let's narrow down our dataset. How can we do that? Well, conveniently enough DNA is already organized into smaller tightly packaged segments in the nuclei of each cell, into what are called *chromosomes*.\n",
        "\n",
        "The human genome is organized into 23 pairs of chromosomes, one each inherited from the mother and father. Chromosome sizes vary widely as well; chromosome 1 spans 249 million base pairs (representing 8% of the total DNA in cells), and many other chromosomes are much smaller in size.\n",
        "\n",
        "For the purposes of our analysis, let's look at the smallest human chromosome, chromosome 21, which is about 48 million base pairs long. This is still a very large DNA sequence, but considerably smaller compared to the whole human genome size of 3 billion base pairs."
      ]
    },
    {
      "cell_type": "markdown",
      "metadata": {
        "id": "BNqnCOMOd9AY"
      },
      "source": [
        "<center> <img src=\"https://project8p.org/wp-content/uploads/2019/04/Project-8p-Chromosome-101-01.png\" width=\"800\"/> </center>\n",
        "\n",
        "<center> <img src=\"https://cdn.britannica.com/12/91212-050-21A839CD/Karyotype-human-chromosomes-images-digital-light-microscope.jpg\" width=\"700\"/> </center>\n",
        "\n",
        "<center> Sources: 1. project8p.org 2. cdn.britannica.com </center>\n"
      ]
    },
    {
      "cell_type": "markdown",
      "metadata": {
        "id": "-EuSuPGOawPz"
      },
      "source": [
        "You can learn more about chromosomes by checking out [this article](http://www.genesandhealth.org/genes-your-health/46-%E2%80%93-magical-number).\n",
        "\n",
        "### Data Source: \n",
        "A common text-based format for representing DNA sequences is the FASTA format, in which the nucleotides are listed in a long raw sequence of A's, C's, G's, and T's. FASTA files, along with other file formats, for each of the human chromosomes can be found [here](ftp://ftp.ensembl.org/pub/current_fasta/homo_sapiens/dna/). The data file we're going to be working with in this tutorial is the one titled \"*Homo_sapiens.GRCh38.dna.chromosome.21.fa.gz*\". Breaking down this file name to reinforce understanding of what data we're working with - *Homo sapiens* is the scientific name for humans, *GRCh38* references the Genome Reference Consortium ID, and this FASTA sequence is for *DNA* on *chromosome 21*. FASTA format is really simple: it consists of a header (starting with '>' for a single-line description or sequence name), followed by lines of sequence data.\n",
        "\n",
        "(This directory has lots of genome data publicly available, for hundreds of different species, and is updated regularly. The data file we are using is from the latest release, modified in Oct. 2020)."
      ]
    },
    {
      "cell_type": "code",
      "metadata": {
        "colab": {
          "base_uri": "https://localhost:8080/"
        },
        "id": "vMOLvcs-Uzmm",
        "outputId": "47c31777-92dc-4876-b823-4039d778333a"
      },
      "source": [
        "# The first thing to do is open our file with the downloaded FASTA data file.\n",
        "data = open('/content/Homo_sapiens.GRCh38.dna.chromosome.21.fa', 'r')\n",
        "\n",
        "# Read the contents of the file, and display the first 1500 bases (since we don't \n",
        "  # want to print all 48 million-something bases - that would likely result in an\n",
        "  # overflow). This is just to check that the data was read in properly. \n",
        "dna_seq = data.read()\n",
        "print(\"DATA FILE: \\n\" + dna_seq[:1500] + \"\\n\")\n",
        "print(\"DNA SEQUENCE LENGTH:\" + str(len(dna_seq)) + \"\\n\")\n",
        "\n",
        "# Extract the FASTA header to separate it out from the genetic code.\n",
        "fasta_header = dna_seq.partition('\\n')[0]\n",
        "print(\"FASTA HEADER\" + fasta_header)"
      ],
      "execution_count": 216,
      "outputs": [
        {
          "output_type": "stream",
          "text": [
            "DATA FILE: \n",
            ">21 dna:chromosome chromosome:GRCh38:21:1:46709983:1 REF\n",
            "NNNNNNNNNNNNNNNNNNNNNNNNNNNNNNNNNNNNNNNNNNNNNNNNNNNNNNNNNNNN\n",
            "NNNNNNNNNNNNNNNNNNNNNNNNNNNNNNNNNNNNNNNNNNNNNNNNNNNNNNNNNNNN\n",
            "NNNNNNNNNNNNNNNNNNNNNNNNNNNNNNNNNNNNNNNNNNNNNNNNNNNNNNNNNNNN\n",
            "NNNNNNNNNNNNNNNNNNNNNNNNNNNNNNNNNNNNNNNNNNNNNNNNNNNNNNNNNNNN\n",
            "NNNNNNNNNNNNNNNNNNNNNNNNNNNNNNNNNNNNNNNNNNNNNNNNNNNNNNNNNNNN\n",
            "NNNNNNNNNNNNNNNNNNNNNNNNNNNNNNNNNNNNNNNNNNNNNNNNNNNNNNNNNNNN\n",
            "NNNNNNNNNNNNNNNNNNNNNNNNNNNNNNNNNNNNNNNNNNNNNNNNNNNNNNNNNNNN\n",
            "NNNNNNNNNNNNNNNNNNNNNNNNNNNNNNNNNNNNNNNNNNNNNNNNNNNNNNNNNNNN\n",
            "NNNNNNNNNNNNNNNNNNNNNNNNNNNNNNNNNNNNNNNNNNNNNNNNNNNNNNNNNNNN\n",
            "NNNNNNNNNNNNNNNNNNNNNNNNNNNNNNNNNNNNNNNNNNNNNNNNNNNNNNNNNNNN\n",
            "NNNNNNNNNNNNNNNNNNNNNNNNNNNNNNNNNNNNNNNNNNNNNNNNNNNNNNNNNNNN\n",
            "NNNNNNNNNNNNNNNNNNNNNNNNNNNNNNNNNNNNNNNNNNNNNNNNNNNNNNNNNNNN\n",
            "NNNNNNNNNNNNNNNNNNNNNNNNNNNNNNNNNNNNNNNNNNNNNNNNNNNNNNNNNNNN\n",
            "NNNNNNNNNNNNNNNNNNNNNNNNNNNNNNNNNNNNNNNNNNNNNNNNNNNNNNNNNNNN\n",
            "NNNNNNNNNNNNNNNNNNNNNNNNNNNNNNNNNNNNNNNNNNNNNNNNNNNNNNNNNNNN\n",
            "NNNNNNNNNNNNNNNNNNNNNNNNNNNNNNNNNNNNNNNNNNNNNNNNNNNNNNNNNNNN\n",
            "NNNNNNNNNNNNNNNNNNNNNNNNNNNNNNNNNNNNNNNNNNNNNNNNNNNNNNNNNNNN\n",
            "NNNNNNNNNNNNNNNNNNNNNNNNNNNNNNNNNNNNNNNNNNNNNNNNNNNNNNNNNNNN\n",
            "NNNNNNNNNNNNNNNNNNNNNNNNNNNNNNNNNNNNNNNNNNNNNNNNNNNNNNNNNNNN\n",
            "NNNNNNNNNNNNNNNNNNNNNNNNNNNNNNNNNNNNNNNNNNNNNNNNNNNNNNNNNNNN\n",
            "NNNNNNNNNNNNNNNNNNNNNNNNNNNNNNNNNNNNNNNNNNNNNNNNNNNNNNNNNNNN\n",
            "NNNNNNNNNNNNNNNNNNNNNNNNNNNNNNNNNNNNNNNNNNNNNNNNNNNNNNNNNNNN\n",
            "NNNNNNNNNNNNNNNNNNNNNNNNNNNNNNNNNNNNNNNNNNNNNNNNNNNNNNNNNNNN\n",
            "NNNNNNNNNNNNNNNNNNNNNNNNNNNNNNNNNNNNNNNN\n",
            "\n",
            "DNA SEQUENCE LENGTH:47488540\n",
            "\n",
            "FASTA HEADER>21 dna:chromosome chromosome:GRCh38:21:1:46709983:1 REF\n"
          ],
          "name": "stdout"
        }
      ]
    },
    {
      "cell_type": "markdown",
      "metadata": {
        "id": "vuXmo1vqo90y"
      },
      "source": [
        "The output shows a long string of N's, but we were expecting only A's, C's, G's, and T's, the four bases that are the foundation of all genetic code. It turns out, that in large DNA fragments (in this case, an entire chromosome), the sequencer is often uncertain in identifying bases towards the start and end of the DNA fragment, and outputs 'N' as an identifier for \"any one of the four basic nucleotides\". This is not very helpful to us for analysis, so we'll need to do some processing to eliminate all the uncertain bases in the DNA sequence."
      ]
    },
    {
      "cell_type": "markdown",
      "metadata": {
        "id": "QS2MFn8g-S_L"
      },
      "source": [
        "\n",
        "\n",
        "---\n",
        "\n",
        "\n",
        "# Data Processing"
      ]
    },
    {
      "cell_type": "markdown",
      "metadata": {
        "id": "r_vrZ52NFMOf"
      },
      "source": [
        "First let's work with the FASTA format, to extract the header (the header confirms that this sequence is indeed the one for homo sapiens chromosome 21), so that we're left with just the raw DNA sequence."
      ]
    },
    {
      "cell_type": "code",
      "metadata": {
        "colab": {
          "base_uri": "https://localhost:8080/"
        },
        "id": "GvgYi-xT5Fws",
        "outputId": "ba176e74-da44-4622-c8a0-0a01481ebe35"
      },
      "source": [
        "# Remove the FASTA header from the sequence data.\n",
        "print(\"HEADER LENGTH = \" + str(len(fasta_header)) + \"\\n\")\n",
        "dna_seq = dna_seq[56:]\n",
        "\n",
        "seq_len = len(dna_seq) # DNA sequence length\n",
        "print(\"FASTA DATA SEQUENCE LENGTH = \" + str(seq_len) + \"\\n\")"
      ],
      "execution_count": 217,
      "outputs": [
        {
          "output_type": "stream",
          "text": [
            "HEADER LENGTH = 56\n",
            "\n",
            "FASTA DATA SEQUENCE LENGTH = 47488484\n",
            "\n"
          ],
          "name": "stdout"
        }
      ]
    },
    {
      "cell_type": "markdown",
      "metadata": {
        "id": "WYukZwBuqfGo"
      },
      "source": [
        "We saw that all the bases that were output in the FASTA data file were 'N', which might seem fishy or appear that we don't have good data. However, we only looked at 1500 bases, out of over 47,000,000 bases in this data file, so it's expected that a large number of the bases towards the beginning of the sequenced DNA will be uncertain. Taking a look at the original data file downloaded from the directory, we can see that there are millions and millions of coded sequences of 'A', 'C', 'G', and 'T' in the file, with 'N' appearing only minimally towards the start and the end of the sequence. To be sure, we can perform a count of how many base positions were lost after we remove the 'N's from the sequence. \n",
        "\n",
        "It's important to note that we should only remove N's from the beginning and end of the sequence. If we remove any 'N' from the middle of the sequence, this would result in a *frameshift mutation*. Frameshift mutations occur when a singular base is inserted or deleted from the DNA sequence, causing all other bases to shift by one. Since the genetic code dictates the function and activity of certain cellular activities in an organism, a frameshift mutation may lead to certain processes no longer being functional. By inspecting the data file, it appears that the N's only occur in the beginning and the end, but to be sure, we'll check that we aren't removing any N's from the middle of the sequence."
      ]
    },
    {
      "cell_type": "code",
      "metadata": {
        "colab": {
          "base_uri": "https://localhost:8080/"
        },
        "id": "zQ8HxUAI4Asa",
        "outputId": "24efa920-99b5-4485-ab9d-e02347d10dd9"
      },
      "source": [
        "# Find positions in the middle of the sequence which contain 'N'.\n",
        "for pos in range (1, len(dna_seq) - 1):\n",
        "  if dna_seq[pos] == 'N':\n",
        "    if dna_seq[pos - 1] != 'N' and dna_seq[pos + 1] != 'N':\n",
        "      print(pos)"
      ],
      "execution_count": 218,
      "outputs": [
        {
          "output_type": "stream",
          "text": [
            "6740684\n",
            "8184003\n",
            "8354160\n",
            "42526857\n",
            "42527409\n",
            "42527683\n"
          ],
          "name": "stdout"
        }
      ]
    },
    {
      "cell_type": "markdown",
      "metadata": {
        "id": "xhtY_0um4i9S"
      },
      "source": [
        "We found 6 instances in which there was an 'N' in the middle of the DNA sequence (at varying positions, as can be seen in the output cell above). Upon closer inspection of the FASTA data file (by carefully scrolling through the millions of bases in the sequence), it appears that there are multiple instances in which long strings of N's appear in between coding regions of 'A', 'C', 'G', and 'T'. This is a result of error in the sequencer and there's not much we can do about the missing data since we don't have raw chromatograph files to analyze the DNA sequence interpretation by eye. Chromatographs show the sequencing results for each position in the DNA, i.e. the sequencer's interpretation of what the base at each position is (this is determined based on chemical signals exuded by each base while sequencing). Chromatographs allow us to check by eye what the base most likely should be, and correct for any unidentified (N) bases in the sequence. \n",
        "\n",
        "Even if we did have a chromatograph for all the bases in chromosome 21, it would take us a painstakingly long time to look at each base one by one. The best option would be to find better data that has fewer unidentified bases, but generally sequencers will not be able provide DNA sequences with 100% certainty. To move forward, we'll have to make the best of what data we have in doing our sequence analysis.\n",
        "\n",
        "You can read more about sequencing and chromatographs at [this webpage](https://biology.unt.edu/~jajohnson/Chromatogram_Interpretation)."
      ]
    },
    {
      "cell_type": "markdown",
      "metadata": {
        "id": "WT1wfjcnKuf8"
      },
      "source": [
        "One option in dealing with the N's in the sequence (without causing frameshift mutations) is to find the first chunk of N's in the beginning of the DNA sequence, and the last chunk of N's at the end of the sequence, and remove these. Removing the front and end of the sequence will not result in frameshift mutations. Of course, this means we still will have large regions of N in the middle of the sequence, but doesn't seem to be any clear way to resolve this issue, so we'll keep these N's and deal with them as we go forward in our analysis."
      ]
    },
    {
      "cell_type": "code",
      "metadata": {
        "colab": {
          "base_uri": "https://localhost:8080/"
        },
        "id": "gKSsL6jtuFI9",
        "outputId": "918b6aa1-9099-4339-d646-a4bd5b23ebc5"
      },
      "source": [
        "# Function that finds the start of the well-identified coding region (A, C, G, \n",
        "  # and T instead of N)\n",
        "def find_start_coding_region(seq):\n",
        "  for pos in range(1, len(seq) - 1):\n",
        "    # We need to check if the position two bases out from the current position\n",
        "      # is also not 'N' because there could be a newline character in the following\n",
        "      # position.\n",
        "    if seq[pos] == 'N' and seq[pos + 1] != 'N' and seq[pos + 2] != 'N':\n",
        "      return pos + 1\n",
        "\n",
        "# Function that find the position of the last chunk of unidentified region in \n",
        "  # the sequence (long string of N's)\n",
        "def find_end_coding_region(seq):\n",
        "  last_N_chunk = 0\n",
        "  for pos in range(1, len(seq) - 1):\n",
        "    # Similarly, we need to check whether two positions before the current position\n",
        "      # is not an 'N'.\n",
        "    if seq[pos] == 'N' and seq[pos - 1] != 'N' and seq[pos - 2] != 'N':\n",
        "      last_N_chunk = pos\n",
        "  return last_N_chunk - 1 # Return the last occurence (at the very end of the sequence)\n",
        "\n",
        "# Store these start and end positions (the sequence in between we'll call our \n",
        "  # \"coding region\")\n",
        "start_coding_region = find_start_coding_region(dna_seq)\n",
        "print(\"Start coding region: \" + str(start_coding_region))\n",
        "\n",
        "end_coding_region = find_end_coding_region(dna_seq)\n",
        "print(\"End coding region: \" + str(end_coding_region))\n",
        "\n",
        "print(\"Length of N's at end :\" + str(seq_len - end_coding_region))\n",
        "\n",
        "print(\"Sequence length remaning: \" + str(seq_len - start_coding_region - (seq_len - end_coding_region)))"
      ],
      "execution_count": 219,
      "outputs": [
        {
          "output_type": "stream",
          "text": [
            "Start coding region: 5093500\n",
            "End coding region: 47478316\n",
            "Length of N's at end :10168\n",
            "Sequence length remaning: 42384816\n"
          ],
          "name": "stdout"
        }
      ]
    },
    {
      "cell_type": "markdown",
      "metadata": {
        "id": "Az5xSsMSMr4_"
      },
      "source": [
        "We discovered that there are 5,093,500 unidentified bases at the beginning of the sequence and 10,168 bases at the end. That's a lot of bases to remove, but we still have 42,385,816 bases remaining in the sequence.\n",
        "\n",
        "Now, we'll clean up the DNA sequence further by removing all the newline characters. For further analysis, we need the sequence to be one long string without any whitespace in between nucleotides [nucleotides are synonymous with bases]."
      ]
    },
    {
      "cell_type": "code",
      "metadata": {
        "colab": {
          "base_uri": "https://localhost:8080/"
        },
        "id": "dyqjqe-JkwhQ",
        "outputId": "b51a11ed-6276-459e-ffe3-d20b374e6277"
      },
      "source": [
        "# Since the sequence contains over 47 million base pairs, trying to parse all\n",
        "  # the data at once requires too much processing power and results in a runtime \n",
        "  # disconnect error. To work around this issue, we'll parse the sequence in \n",
        "  # chunks of four, of size 10 million base pairs in each iteration.\n",
        "\n",
        "# Start and end position for sequence parse in first iteration of loop\n",
        "start_pos = start_coding_region\n",
        "end_pos = 10000000\n",
        "\n",
        "# We'll build up a new sequence of the modified DNA, with all '\\n removed.\n",
        "mod_dna_seq = \"\"\n",
        "\n",
        "# Modify DNA sequence to remove all \\n' chars\n",
        "print(\"Modifying DNA Sequence\")\n",
        "while end_pos < end_coding_region:\n",
        "  dna_chunk = dna_seq[start_pos: end_pos].replace('\\n', '') # Remove each instance of '\\n'\n",
        "  mod_dna_seq += dna_chunk # Build up modified DNA sequence\n",
        "  # Print the start and end positions in each iteration to make sure we're parsing\n",
        "    # all segments of the sequence\n",
        "  print(\"start: \" + str(start_pos) + \" end: \" + str(end_pos) + \" dna length: \" +\n",
        "        str(len(mod_dna_seq)))\n",
        "  start_pos = end_pos + 1 # Update start position\n",
        "  end_pos += 10000000 # Increment end position by 10,000,000\n",
        "\n",
        "# We still need to modify the last chunk of the FASTA file, up to the end of the\n",
        "  # sequence, and then we'll have our final modified DNA sequence.\n",
        "last_dna_chunk = dna_seq[start_pos: end_coding_region].replace('\\n', '') # Remove each instance of '\\n'\n",
        "mod_dna_seq += last_dna_chunk # Build up modified DNA sequence\n",
        "print(\"start: \" + str(start_pos) + \" end: \" + str(seq_len) + \" dna length: \" + \n",
        "      str(len(mod_dna_seq)))\n",
        "\n",
        "dna_length = len(mod_dna_seq) # Modified DNA sequence length\n",
        "print(\"\\nDNA SEQUENCE MODIFIED LENGTH: \" + str(dna_length) + \"\\n\")\n",
        "\n",
        "# Difference in sequence length between original FASTA data and modified sequence\n",
        "print(\"ELIMINATED SEQUENCE: \" + str(seq_len - dna_length) + \"\\n\")"
      ],
      "execution_count": 220,
      "outputs": [
        {
          "output_type": "stream",
          "text": [
            "Modifying DNA Sequence\n",
            "start: 5093500 end: 10000000 dna length: 4826065\n",
            "start: 10000001 end: 20000000 dna length: 14662130\n",
            "start: 20000001 end: 30000000 dna length: 24498194\n",
            "start: 30000001 end: 40000000 dna length: 34334259\n",
            "start: 40000001 end: 47488484 dna length: 41689978\n",
            "\n",
            "DNA SEQUENCE MODIFIED LENGTH: 41689978\n",
            "\n",
            "ELIMINATED SEQUENCE: 5798506\n",
            "\n"
          ],
          "name": "stdout"
        }
      ]
    },
    {
      "cell_type": "markdown",
      "metadata": {
        "id": "maLPtWRiQjfI"
      },
      "source": [
        "After removing all the newline characters and joining the sequence together into one large string, we have 41,689,978 bases in the total sequence. Let's see what the modified DNA sequence looks like now (first 1500 bases only, of course)."
      ]
    },
    {
      "cell_type": "code",
      "metadata": {
        "id": "SLD3u0MC-3sm",
        "colab": {
          "base_uri": "https://localhost:8080/",
          "height": 188
        },
        "outputId": "5f65b259-6b82-42cc-9b0d-9ddc1a07bf83"
      },
      "source": [
        "mod_dna_seq[:1500]"
      ],
      "execution_count": 221,
      "outputs": [
        {
          "output_type": "execute_result",
          "data": {
            "application/vnd.google.colaboratory.intrinsic+json": {
              "type": "string"
            },
            "text/plain": [
              "'GATCCACCCGCCTTGGCCTCCTAAAGTGCTGGGATTACAGGTGTTAGCCACCACGTCCAGCTGTTAATTTTTATTTAATAAGAATGACAGAGTGAGGGCCATCACTGTTAATGAAGCCAGTGTTGCTCACAGCCTCCCCTTGGTCACTTTTTGTGACTGAAGGGCATGTGTTCAGGCAAGATTGTTGGGTGGCTGTGTTTTGTCTTCTTCCAGCTCGGCCATGGAATAGCCTGTGGGGACCTACTCTGTGGTCCCCAGGGAGCTACTCTGTGGGGGCTGTTTCTGTTCAGCAGGGAAGGCTCTGCCCTTGCTGTTAGCTCCTGGAGGGCTGCGGACGGCACCTGCTGTGTTCACAGATGACAGTTACTTCCCTAGGTAGTCTGCATGTTGGGCCTCCCAGGACTGGTTCTCTAAGGGCAATGTGAGGACAGACAGAAAAACCAAATTCTGCCAAAGTTTTTAAATAGGTTTATTCTGAGCCAATAAGAGTGACCATGGCCTGGGAAATACAGTCTTAAGAGATCCCGAGGAAGTGCACCTGAGGCGGTCAGTTACAATTTGGTTTTATGTATTTATTTATTTTTATTTTATTTATTTATTTATTTGTTTTTGAGACGGAGGCTTGCTCTGTCGCCCAGGCTGGAGTGCAGTGGCGTGATCTCGGCTCACCGCAAGCTCCGCCTCCCGCGTTCCTGCCATTCTCCTGCCTCAGCCTCCCGAGTAGCTGGGACTACAGGCGCCCGCCACCATGCCTGGCTAATTTTTTTATATTTTTAGTAGAGACGGGGTTTCACCGTGTTAGCCAGGATGGTCTCAATCTCCTGACCTCGTGATCCGCCCGCCTCTGCCTCCCAAAGTGCTGGGATTACAGGCGTGAGCCACCACTCCCAGCACAATTGGTTTTGTACATTTCAGGGAGATGCGAACTGCAGGTGGAATCAGAAAACAGTACACGGGCCGGGCGCGGTGGCTCACGCCTGTAATCCCAGCACTTTGAGCTGAGGAGTTCAAGACCAGTTTGAGCAACTTGGTGAAACCCCATCTCTACCAAAAATACAAAAAAGTTGGCTAGTCATGGTGATGTGCACCTGGGGTTGCTCAGGGGGCTGAGGCAGGAGGATTGCTTGAGCCCAGGAGGTAGAGGTTGCAGTGAGCCGAGATCTCGCCATTGCACTACAGCCTGGGTGACAGAGTGAGACCCCATCTCAAAAAATCAATCAATCAATAAATCAATACATAGAAGATGTGCATTGGATCAGCCCCAAAAGGCGAGATATCTTGAAGCTTACAGGTTATAGGTGGGTTTAGGGATTCTTTAGTTGGCAGTTGGTTGAAAGAGTTGAGCTTTGCCTAAAAACTGGGAGTCAGTAGAAAGGAATGCTTGAGTTAAAATAAGGAGGTCTGCTGTCTGTCATGTGGTGCCATGGCAGAGTCACAATATACCAGGTCAAAAACACCCATTCCACAAGCTTTTGTGGTTTGTAAGGCGTGATTCCCCTA'"
            ]
          },
          "metadata": {
            "tags": []
          },
          "execution_count": 221
        }
      ]
    },
    {
      "cell_type": "markdown",
      "metadata": {
        "id": "6SuhpBglSICk"
      },
      "source": [
        "Back to a quick genetics lesson.\n",
        "\n",
        "The flow of genetic information is inscribed in the **central dogma** of biology, the process in which the building blocks of DNA that encode instructions within a cell (the base pairs) are converted into functional products in the form of proteins in the body.\n",
        "\n",
        "DNA is stored in the nucleus of the cell, and proteins are produced in a different part of the cell, the ribosome, which is far away from the nucleus. In order to transport the genetic information in DNA to the ribosomes, an intermediary carrier is needed - that's where messenger RNA (mRNA) comes in. **Transcription** is the first stage in central dogma, and is the process by which information in the DNA in the nucleus is converted into small, portable mRNA messages that travel to ribosomes. In the second stage, **translation**, the mRNA messages are read to make specific proteins that function to keep the organism alive.\n",
        "\n",
        "To summarize, central dogma explains the flow of genetic information from DNA to RNA to proteins.\n",
        "\n",
        "Learn more about the central dogma of moelcular biology through this [lesson on intro to gene expression ](https://www.khanacademy.org/science/high-school-biology/hs-molecular-genetics/hs-rna-and-protein-synthesis/a/intro-to-gene-expression-central-dogma).\n",
        "\n"
      ]
    },
    {
      "cell_type": "markdown",
      "metadata": {
        "id": "TBt4p1D-Upmd"
      },
      "source": [
        "<center> <img src=\"https://cdn.kastatic.org/ka-perseus-images/2b597889d05bc601803a3b4d9ec5ccd5e7b8d3af.png\"/> </center>\n",
        "\n",
        "<center> Source: cdn.kastatic.org </center>"
      ]
    },
    {
      "cell_type": "markdown",
      "metadata": {
        "id": "dCnkj5KD-LIp"
      },
      "source": [
        "### Step 1: Transcription"
      ]
    },
    {
      "cell_type": "markdown",
      "metadata": {
        "id": "_sCMjhvgWL_h"
      },
      "source": [
        "RNA (ribonucleic acid) has a slightly different genetic code than DNA: it's nucleotide bases are Adenine, Cytosine, Guanine, and Uracil (instead of Thymine) - A, C, G, and U. The base pairing remains the same: G pairs with C, and in place of T, U pairs with A. RNA is a single-stranded molecule, unlike the DNA double helix.\n",
        "\n",
        "<center> <img src=\"https://cdn.kastatic.org/ka-perseus-images/55e45fb61bd718907a9feee5987d04c0c2b055c3.png\"/> </center>\n",
        "\n",
        "<center> Source: cdn.kastatic.org </center>"
      ]
    },
    {
      "cell_type": "markdown",
      "metadata": {
        "id": "-U6KBa6jYQCS"
      },
      "source": [
        "Just for fun, let's see how many of each nucleotide is in our DNA sequence.\n"
      ]
    },
    {
      "cell_type": "code",
      "metadata": {
        "colab": {
          "base_uri": "https://localhost:8080/"
        },
        "id": "H0pBm8Rp-YKg",
        "outputId": "52619514-10c5-48bd-ae46-fec4e7dc3215"
      },
      "source": [
        "print(\"A: \" + str(mod_dna_seq.count('A')))\n",
        "print(\"C: \" + str(mod_dna_seq.count('C')))\n",
        "print(\"G: \" + str(mod_dna_seq.count('G')))\n",
        "print(\"T: \" + str(mod_dna_seq.count('T')))"
      ],
      "execution_count": 222,
      "outputs": [
        {
          "output_type": "stream",
          "text": [
            "A: 11820662\n",
            "C: 8185243\n",
            "G: 8226379\n",
            "T: 11856330\n"
          ],
          "name": "stdout"
        }
      ]
    },
    {
      "cell_type": "markdown",
      "metadata": {
        "id": "iLx0L5LqYbfp"
      },
      "source": [
        "There is a similar count of A's and T's (about 11,000,000 each) and C's and G's (about 8,000,000 each). This makes sense considering the base pairing rules in DNA.\n",
        "\n",
        "Now, let's implement transcription on our DNA. This is easy - we just replace all instances of T in the DNA by U. Since the RNA will be transcribed complementary to the template strand, we get back the same orientation as the original DNA coding strand (5' to 3', which indicates the two ends of the genetic molecule)."
      ]
    },
    {
      "cell_type": "code",
      "metadata": {
        "colab": {
          "base_uri": "https://localhost:8080/",
          "height": 256
        },
        "id": "8aKppPEmZvZT",
        "outputId": "b61e30f6-0597-4cc2-e8f6-d3140a3f9609"
      },
      "source": [
        "# TRANSCRIPTION (DNA to mRNA)\n",
        "mrna_seq = mod_dna_seq.replace('T', 'U')\n",
        "mrna_length = len(mrna_seq)\n",
        "\n",
        "print(\"mRNA LENGTH = \" + str(mrna_length) + \"\\n\")\n",
        "print(\"SEQUENCES TRANSCRIBED CORRECTLY: \" + str(dna_length == mrna_length) + \"\\n\")\n",
        "\n",
        "mrna_seq[:1500]"
      ],
      "execution_count": 223,
      "outputs": [
        {
          "output_type": "stream",
          "text": [
            "mRNA LENGTH = 41689978\n",
            "\n",
            "SEQUENCES TRANSCRIBED CORRECTLY: True\n",
            "\n"
          ],
          "name": "stdout"
        },
        {
          "output_type": "execute_result",
          "data": {
            "application/vnd.google.colaboratory.intrinsic+json": {
              "type": "string"
            },
            "text/plain": [
              "'GAUCCACCCGCCUUGGCCUCCUAAAGUGCUGGGAUUACAGGUGUUAGCCACCACGUCCAGCUGUUAAUUUUUAUUUAAUAAGAAUGACAGAGUGAGGGCCAUCACUGUUAAUGAAGCCAGUGUUGCUCACAGCCUCCCCUUGGUCACUUUUUGUGACUGAAGGGCAUGUGUUCAGGCAAGAUUGUUGGGUGGCUGUGUUUUGUCUUCUUCCAGCUCGGCCAUGGAAUAGCCUGUGGGGACCUACUCUGUGGUCCCCAGGGAGCUACUCUGUGGGGGCUGUUUCUGUUCAGCAGGGAAGGCUCUGCCCUUGCUGUUAGCUCCUGGAGGGCUGCGGACGGCACCUGCUGUGUUCACAGAUGACAGUUACUUCCCUAGGUAGUCUGCAUGUUGGGCCUCCCAGGACUGGUUCUCUAAGGGCAAUGUGAGGACAGACAGAAAAACCAAAUUCUGCCAAAGUUUUUAAAUAGGUUUAUUCUGAGCCAAUAAGAGUGACCAUGGCCUGGGAAAUACAGUCUUAAGAGAUCCCGAGGAAGUGCACCUGAGGCGGUCAGUUACAAUUUGGUUUUAUGUAUUUAUUUAUUUUUAUUUUAUUUAUUUAUUUAUUUGUUUUUGAGACGGAGGCUUGCUCUGUCGCCCAGGCUGGAGUGCAGUGGCGUGAUCUCGGCUCACCGCAAGCUCCGCCUCCCGCGUUCCUGCCAUUCUCCUGCCUCAGCCUCCCGAGUAGCUGGGACUACAGGCGCCCGCCACCAUGCCUGGCUAAUUUUUUUAUAUUUUUAGUAGAGACGGGGUUUCACCGUGUUAGCCAGGAUGGUCUCAAUCUCCUGACCUCGUGAUCCGCCCGCCUCUGCCUCCCAAAGUGCUGGGAUUACAGGCGUGAGCCACCACUCCCAGCACAAUUGGUUUUGUACAUUUCAGGGAGAUGCGAACUGCAGGUGGAAUCAGAAAACAGUACACGGGCCGGGCGCGGUGGCUCACGCCUGUAAUCCCAGCACUUUGAGCUGAGGAGUUCAAGACCAGUUUGAGCAACUUGGUGAAACCCCAUCUCUACCAAAAAUACAAAAAAGUUGGCUAGUCAUGGUGAUGUGCACCUGGGGUUGCUCAGGGGGCUGAGGCAGGAGGAUUGCUUGAGCCCAGGAGGUAGAGGUUGCAGUGAGCCGAGAUCUCGCCAUUGCACUACAGCCUGGGUGACAGAGUGAGACCCCAUCUCAAAAAAUCAAUCAAUCAAUAAAUCAAUACAUAGAAGAUGUGCAUUGGAUCAGCCCCAAAAGGCGAGAUAUCUUGAAGCUUACAGGUUAUAGGUGGGUUUAGGGAUUCUUUAGUUGGCAGUUGGUUGAAAGAGUUGAGCUUUGCCUAAAAACUGGGAGUCAGUAGAAAGGAAUGCUUGAGUUAAAAUAAGGAGGUCUGCUGUCUGUCAUGUGGUGCCAUGGCAGAGUCACAAUAUACCAGGUCAAAAACACCCAUUCCACAAGCUUUUGUGGUUUGUAAGGCGUGAUUCCCCUA'"
            ]
          },
          "metadata": {
            "tags": []
          },
          "execution_count": 223
        }
      ]
    },
    {
      "cell_type": "markdown",
      "metadata": {
        "id": "lXlyPcNpZ6NL"
      },
      "source": [
        "### Step 2: Translation"
      ]
    },
    {
      "cell_type": "markdown",
      "metadata": {
        "id": "5624nNXCZ8O3"
      },
      "source": [
        "Translation, the process in which mRNA directs protein synthesis, is a more involved process (in terms of coding up the implementation).\n",
        "\n",
        "<center> <img src=\"https://cdn.kastatic.org/ka-perseus-images/6f03ca3333ad7d5f7c68c0c8bbecfcab04b16ce0.png\"/> </center>\n",
        "\n",
        "<center> Source: cdn.kastatic.org </center>\n",
        "\n",
        "Proteins are made up of amino acids; there are twenty different amino acids, shown in the amino acid chart below. The genetic code dictates that the nucleotides of mRNA are read in triplets, called **codons**. There are 61 possible codons with the four mRNA nucleotides. You might be wondering, how then, there are only twenty amino acids. Multiple codons can encode the same amino acid. One of the codons (AUG) is the start codon, where translation of the mRNA begins to create a specific protein. Three codons are stop codons (UGA, UAG, and UAA), where translation of a specific protein terminates. In this way, large segments of DNA on chromosomes (**genes**) encode the information required to synthesize tens of thousands of specialized proteins in the body. There are estimated to be between 200 and 300 genes on chromosome 21, but one gene can encode lots of proteins.\n"
      ]
    },
    {
      "cell_type": "markdown",
      "metadata": {
        "id": "IXNSts9LOerc"
      },
      "source": [
        "<center> <img src=\"https://i0.wp.com/www.compoundchem.com/wp-content/uploads/2014/09/20-Common-Amino-Acids-v3.png?w=1160&ssl=1\" width=\"900\"/> </center>\n",
        "\n",
        "<center> Source: compoundchem.com </center>"
      ]
    },
    {
      "cell_type": "code",
      "metadata": {
        "colab": {
          "base_uri": "https://localhost:8080/"
        },
        "id": "LplCQRxMUvBZ",
        "outputId": "a01b4100-dba1-41cf-8a9c-73790e9a1c77"
      },
      "source": [
        "# Let's begin by finding the first occurence of the start codon in the DNA.\n",
        "start_codon = mrna_seq.find('AUG')\n",
        "print(\"Start codon: \" + str(start_codon))"
      ],
      "execution_count": 224,
      "outputs": [
        {
          "output_type": "stream",
          "text": [
            "Start codon: 83\n"
          ],
          "name": "stdout"
        }
      ]
    },
    {
      "cell_type": "markdown",
      "metadata": {
        "id": "dys2Aw59eQl6"
      },
      "source": [
        "Now let's figure out a way to translate all of the codons in the mRNA sequence into a sequence of proteins (indicated by twenty different letters, each corresponding to a particular amino acid). There's a handy amino acid chart that we can use that graphically shows what codons encode each amino acid.\n",
        "<br></br>\n",
        "\n",
        "<center> <img src=\"https://trufoodsnutrition.com/wp-content/uploads/2019/02/amino-acid-chart.png\" width=\"700\"/> </center>\n",
        "\n",
        "<center> Source: trufoodsnutrition.com </center>\n",
        "\n",
        "\n",
        "Remember those pesky N's in the sequence? To deal with those, let's just disregard any codon that contains an N since there's no way to know which amino acid it might encode. We'll denote amino acids containing an 'N' with 'X' the protein sequence; all other amino acids will be denoted by their single-letter identifier ('A', 'C', 'D', 'E', 'F', 'G', 'H', 'I', 'J', 'L', 'M' (start codon), 'N', 'P', 'Q', 'R', 'S', 'T', 'V', 'W', 'Y', and '*' for stop codons)."
      ]
    },
    {
      "cell_type": "code",
      "metadata": {
        "id": "2Cd77uTmPCtG"
      },
      "source": [
        "# We'll create a dictionary to encode the codons corresponding to each of the 20\n",
        "  # amino acids, the start codon, the stop codons, and deal with N's in the sequence\n",
        "  # as well.\n",
        "codons = {\"GCG\" : \"A\", \"GCA\" : \"A\", \"GCC\" : \"A\", \"GCU\" : \"A\", # Alanine\n",
        "            \"UGC\" : \"C\", \"UGU\" : \"C\", # Cysteine\n",
        "            \"GAC\" : \"D\", \"GAU\" : \"D\", # Aspartic acid\n",
        "            \"GAG\" : \"E\", \"GAA\" : \"E\", # Glutamic acid\n",
        "            \"UUC\" : \"F\", \"UUU\" : \"F\", #Phenylalanine\n",
        "            \"GGG\" : \"G\", \"GGA\" : \"G\", \"GGC\" : \"G\", \"GGU\" : \"G\", # Glycine\n",
        "            \"CAU\": \"H\", \"CAC\" : \"H\", # Histidine\n",
        "            \"AUU\" : \"I\", \"AUC\" : \" I\", \"AUA\" : \"I\", # Isoleucine\n",
        "            \"AAA\" : \"K\", \"AAG\" : \"K\", # Lysine\n",
        "            \"CUU\" : \"L\", \"CUC\" : \"L\", \"CUA\" : \"L\", \"CUG\" : \"L\", \"UUG\" : \"L\", \"UUA\" : \"L\", # Leucine\n",
        "            \"AUG\" : \"M\", # Methionine (start codon)\n",
        "            \"AAC\" : \"N\", \"AAU\" : \"N\", # Asparagine\n",
        "            \"CCU\" : \"P\", \"CCC\" : \"P\", \"CCA\" : \"P\", \"CCG\" : \"P\", # Proline\n",
        "            \"CAA\" : \"Q\", \"CAG\" : \"Q\", # Glutamine\n",
        "            \"CGU\" : \"R\", \"CGC\" : \"R\", \"CGA\" : \"R\", \"CGG\" : \"R\", \"AGA\" : \"R\", \"AGG\" : \"R\", # Arginine\n",
        "            \"UCG\" : \"S\", \"UCA\" : \"S\", \"UCC\" : \"S\", \"UCU\" : \"S\", \"AGU\" : \"S\", \"AGC\" : \"S\", # Serine\n",
        "            \"ACU\" : \"T\", \"ACC\" : \"T\", \"ACA\" : \"T\", \"ACG\" : \"T\", # Threonine\n",
        "            \"GUG\" : \"V\", \"GUA\" : \"V\", \"GUC\" : \"V\", \"GUU\" : \"V\", # Valine\n",
        "            \"UGG\" : \"W\", # Tryptophan\n",
        "            \"UAC\" : \"Y\", \"UAU\" : \"Y\", # Tyrosine\n",
        "            \"UGA\" : \"*\", \"UAG\" : \"*\", \"UAA\" : \"*\", # Stop codons\n",
        "          \n",
        "            # Since we can't remove N's from the middle of the sequence (would result\n",
        "              # in frameshift mutations), we'll enocde any codon in the mRNA that\n",
        "              # has an N as \"X\" in the protein sequence. Here are all the possible\n",
        "              # configurations in which N can be present in a codon:\n",
        "            \"NNN\" : \"X\", \n",
        "            \"NNA\" : \"X\", \"NNC\" : \"X\", \"NNG\" : \"X\", \"NNU\" : \"X\",\n",
        "            \"ANN\" : \"X\", \"CNN\" : \"X\", \"GNN\" : \"X\", \"UNN\" : \"X\",\n",
        "            \"NAA\" : \"X\", \"NAC\" : \"X\", \"NAG\" : \"X\", \"NAU\" : \"X\",\n",
        "            \"NCA\" : \"X\", \"NCC\" : \"X\", \"NCG\" : \"X\", \"NCU\" : \"X\",\n",
        "            \"NGA\" : \"X\", \"NGC\" : \"X\", \"NGG\" : \"X\", \"NAU\" : \"X\",\n",
        "            \"NUA\" : \"X\", \"NUC\" : \"X\", \"NUG\" : \"X\", \"NUU\" : \"X\",\n",
        "            \"ANA\" : \"X\", \"ANC\" : \"X\", \"ANG\" : \"X\", \"ANU\" : \"X\",\n",
        "            \"CNA\" : \"X\", \"CNC\" : \"X\", \"CNG\" : \"X\", \"CNU\" : \"X\",\n",
        "            \"GNA\" : \"X\", \"GNC\" : \"X\", \"GNG\" : \"X\", \"GNU\" : \"X\",\n",
        "            \"UNA\" : \"X\", \"UNC\" : \"X\", \"UNG\" : \"X\", \"UNU\" : \"X\",\n",
        "            \"AAN\" : \"X\", \"ACN\" : \"X\", \"AGN\" : \"X\", \"AUN\" : \"X\",\n",
        "            \"CAN\" : \"X\", \"CCN\" : \"X\", \"CGN\" : \"X\", \"CUN\" : \"X\",\n",
        "            \"GAN\" : \"X\", \"GCN\" : \"X\", \"GGN\" : \"X\", \"GUN\" : \"X\",\n",
        "            \"UAN\" : \"X\", \"UCN\" : \"X\", \"UGN\" : \"X\", \"UUN\" : \"X\",\n",
        "            }"
      ],
      "execution_count": 225,
      "outputs": []
    },
    {
      "cell_type": "code",
      "metadata": {
        "id": "bURcWnGgecVS"
      },
      "source": [
        "# TRANSLATION (mRNA to protein)\n",
        "# This function synthesizes a specific protein sequence, starting from the start\n",
        "  # codon in the mRNA sequence and terminating translation once a stop codon is reached.\n",
        "def translate(start):\n",
        "  protein_seq = \"\" # We'll build up the protein sequence\n",
        "  translate_pos = start\n",
        "  while mrna_seq[translate_pos: translate_pos+3] not in stop_codons: # Tranverse mRNA sequence by triplets\n",
        "    amino_acid = codons[mrna_seq[translate_pos: translate_pos+3]] # Identify each amino acid based on codon dict\n",
        "    protein_seq += amino_acid # Add the amino acid to the protein sequence\n",
        "    translate_pos += 3\n",
        "  protein_seq += amino_acid # Add stop codon to sequence\n",
        "  proteins.append(protein_seq) # Add synthesized protein to proteins list\n",
        "  return translate_pos # Return position of stop codon"
      ],
      "execution_count": 226,
      "outputs": []
    },
    {
      "cell_type": "code",
      "metadata": {
        "colab": {
          "base_uri": "https://localhost:8080/"
        },
        "id": "5kUHhTzzYA-F",
        "outputId": "546eaae8-7964-400c-d946-1f03d9ebfe5a"
      },
      "source": [
        "# Now we'll call the translate function on our sequence\n",
        "proteins = [] # Create a list to store all synthesized proteins\n",
        "start_codon_seq = 'AUG' # Start codon\n",
        "stop_codons = ['UGA', 'UAG', 'UAA'] # Stop codons\n",
        "\n",
        "# Begin translation at the first start codon\n",
        "translate_pos = translate(start_codon)\n",
        "\n",
        "# Iterate through mRNA sequence, calling translate() each time start codon is found\n",
        "while translate_pos < end_coding_region:\n",
        "  if mrna_seq[translate_pos: translate_pos + 3] == start_codon_seq:\n",
        "    translate_pos = translate(translate_pos)\n",
        "  else:\n",
        "    translate_pos += 3\n",
        "\n",
        "print(\"Ended Translating at: \" + str(translate_pos) + \"\\n\")\n",
        "print(\"PROTEINS: \")\n",
        "proteins[:25] # Display first 25 proteins in list"
      ],
      "execution_count": 227,
      "outputs": [
        {
          "output_type": "stream",
          "text": [
            "Ended Translating at: 47478317\n",
            "\n",
            "PROTEINS: \n"
          ],
          "name": "stdout"
        },
        {
          "output_type": "execute_result",
          "data": {
            "text/plain": [
              "['MTEE',\n",
              " 'MKPVLLTASPWSLFVTEGHVFRQDCWVAVFCLLPARPWNSLWGPTLWSPGSYSVGAVSVQQGRLCPCCC',\n",
              " 'MTVTSLGSLHVGPPRTGSLRAMM',\n",
              " 'MAWEIQSS',\n",
              " 'MYLFIFILFIYLFVFETEACSVAQAGVQWRDLGSPQAPPPAFLPFSCLSLPSSWDYRRPPPCLANFFIFLVETGFHRVSQDGLNLLTSS',\n",
              " 'MHGTESSPQTRSFLLWAPGRQPLRLVVAVDGSALVGSTPQLALACGPCELSRVCPGV ISCCRTRPCPLLLPLSAHSPLSCRWRSGDPS ILCTAPHLPWATPVTVLPVSDASVLAACPHHPCLLSSLLTPPCQGRNCKLSAFFKNSF IEAPLTYSKLHAFSVSDWMSSELAPHPCTPHQSKRATEE',\n",
              " 'MHLCGPSTGQGFIAAGGTGAGGSLRPRPVRPLDPLSPSLKPQFPP',\n",
              " 'MHLNSVPMTSPPGPPSALPPHPTPGWYLFQFHRLLQYARPKPGSPRPFFWMFVDNLVLNKEDLDVASRFLEVRAGLRGPPSDPCPREGGAFLVELSLHPRLRAWLLAAPGFQVCTGPRRAAVQSGQGLRPGTQSPFKDSMGGQSHLAPLLCSQNTASGAHLLPLPPQSPPTHTH ITPHTQVHTHCSAQSLYTCTTHRDTLATHTQAHYVHTYSHHTHTAFSSHVV',\n",
              " 'MQ IQLFRRGANAMSS',\n",
              " 'MSVCRNEALNLRGLLRTQALKRTTSVNRPEPVCGRGPLSGGGSS',\n",
              " 'MEPVT IPDVHGGSLQNAVRVWSN IPAIRRYFLGSS',\n",
              " 'MRAHTQPHSHDSLARSSIRLCAHVCTHTQSFPRSRSSTHLCAHACTHSHPHSHAHPHTHMLPQSHAHTSTLTTTTC IHTFTCAHNHTGTHASVSPTHTLAPPAVHSWAALPTFWGLEHMAFPHVPSLRLSTPFCCPHSLSQLPPPLNSLSRRPRPHDLQPTAHPSPHSHTRLACLAHTCIRVERALSGSAESS',\n",
              " 'MAPAGLAGLASPGFEFGWGG',\n",
              " 'MSLPGRPCQALWGWVSGGEGGGRPSNTCVHYRPCLTCCLAPEAPWPPEALCVHTAVRTAPHQGSS',\n",
              " 'MVTSSSDGPGARCSHGVTPSLLPRGPAPGRGRREARESSGPLLLTPPPP',\n",
              " 'MSHYTVKKKTFPRTKATFLTLSLSSSDSCFFASPSSLQTHVPLGSGDSGSLPHHAGSWDGARPTPLHTGPHVVVRDVLPESISVFF',\n",
              " 'MSLVGPTPGGIACKKQGSSWPSAVV',\n",
              " 'MLCGRKVKIGPFEGG',\n",
              " 'MTERLSHLGTVLDAYDTHLTSRDEFSKLCNDPGVPEATEGAQVRASKCKK',\n",
              " 'MGTGQAGWW',\n",
              " 'MLPCAANFF',\n",
              " 'MGSCSVAQAGLKLLGSSDPPTLASLSVGITGVSHCARPAKYLNFIHRTC IM IPCSAEPPSKGCPCPHSR ILL',\n",
              " 'MLPHVAKEGLCC',\n",
              " 'MPGPPRAGRGRR',\n",
              " 'MYPFRR']"
            ]
          },
          "metadata": {
            "tags": []
          },
          "execution_count": 227
        }
      ]
    },
    {
      "cell_type": "code",
      "metadata": {
        "colab": {
          "base_uri": "https://localhost:8080/"
        },
        "id": "cLAlAx6XcgqB",
        "outputId": "fc3bb369-0f50-483e-e76d-41c373b75702"
      },
      "source": [
        "print(\"Number of Proteins Synthesized: \" + str(len(proteins)))"
      ],
      "execution_count": 228,
      "outputs": [
        {
          "output_type": "stream",
          "text": [
            "Number of Proteins Synthesized: 175985\n"
          ],
          "name": "stdout"
        }
      ]
    },
    {
      "cell_type": "markdown",
      "metadata": {
        "id": "mjiixO86mWTN"
      },
      "source": [
        "There were a total of 175,986 proteins synthesized from the mRNA sequence. This number seems quite high, especially given that chromosome 21 is a relatively small chromosome. There are many complexities with DNA sequencing and the flow of genetic information through central dogma that are missed with this simplistic approach. There are other initiation factors and proteins that are involved in protein synthesis, so that not all the protein sequences we found may actually be translated from this chromosome in actual cells. Additionally, not all regions of the mRNA correspond to particular amino acids. An area near the 5' end known as the untranslated region (UTR) which has a ribosome binding site required for the process of protein synthesis, but doesn't affect the sequence of amino acids.\n",
        "\n",
        "Nevertheless, let's work with what we have and explore the data a little more."
      ]
    },
    {
      "cell_type": "markdown",
      "metadata": {
        "id": "9ev_MJwAo-gb"
      },
      "source": [
        "\n",
        "\n",
        "---\n",
        "\n",
        "\n",
        "# Exploratory Data Analysis & Data Visualization"
      ]
    },
    {
      "cell_type": "markdown",
      "metadata": {
        "id": "59HUkSDoptfv"
      },
      "source": [
        "From the small sample of protein sequences we've looked at, we can already see that there is a range in protein size (from some very small proteins, only several amino acids long to some much larger proteins). Again, the smaller protein sizes are probably due to errors in our method of dealing with unidentified bases in the sequence and in the process of translation. It would be unusual to see so many proteins of small sizes. Let's visualize the distribution of protein sizes on a histogram."
      ]
    },
    {
      "cell_type": "code",
      "metadata": {
        "colab": {
          "base_uri": "https://localhost:8080/",
          "height": 436
        },
        "id": "pc7EPGJelXLe",
        "outputId": "cc9e01e2-aa5d-43a4-e313-c604e55df1cb"
      },
      "source": [
        "import pandas as pd\n",
        "\n",
        "# Let's start by creating a dataframe in which to store the protein seqeunces we've extracted\n",
        "ch21code_df = pd.DataFrame(data=proteins, columns=['amino acid sequence']) # Store the amino acid sequences of each protein\n",
        "ch21code_df['protein length'] = ch21code_df.apply(lambda row: len(row['amino acid sequence']), axis=1) # Store the amino acid lengths\n",
        "ch21code_df['nucleotides'] = ch21code_df['protein length'] * 3 # Store the nucleotide lengths\n",
        "print(\"Number of Proteins i DataFrame: \" + str(len(ch21code_df)))\n",
        "ch21code_df"
      ],
      "execution_count": 229,
      "outputs": [
        {
          "output_type": "stream",
          "text": [
            "Number of Proteins i DataFrame: 175985\n"
          ],
          "name": "stdout"
        },
        {
          "output_type": "execute_result",
          "data": {
            "text/html": [
              "<div>\n",
              "<style scoped>\n",
              "    .dataframe tbody tr th:only-of-type {\n",
              "        vertical-align: middle;\n",
              "    }\n",
              "\n",
              "    .dataframe tbody tr th {\n",
              "        vertical-align: top;\n",
              "    }\n",
              "\n",
              "    .dataframe thead th {\n",
              "        text-align: right;\n",
              "    }\n",
              "</style>\n",
              "<table border=\"1\" class=\"dataframe\">\n",
              "  <thead>\n",
              "    <tr style=\"text-align: right;\">\n",
              "      <th></th>\n",
              "      <th>amino acid sequence</th>\n",
              "      <th>protein length</th>\n",
              "      <th>nucleotides</th>\n",
              "    </tr>\n",
              "  </thead>\n",
              "  <tbody>\n",
              "    <tr>\n",
              "      <th>0</th>\n",
              "      <td>MTEE</td>\n",
              "      <td>4</td>\n",
              "      <td>12</td>\n",
              "    </tr>\n",
              "    <tr>\n",
              "      <th>1</th>\n",
              "      <td>MKPVLLTASPWSLFVTEGHVFRQDCWVAVFCLLPARPWNSLWGPTL...</td>\n",
              "      <td>69</td>\n",
              "      <td>207</td>\n",
              "    </tr>\n",
              "    <tr>\n",
              "      <th>2</th>\n",
              "      <td>MTVTSLGSLHVGPPRTGSLRAMM</td>\n",
              "      <td>23</td>\n",
              "      <td>69</td>\n",
              "    </tr>\n",
              "    <tr>\n",
              "      <th>3</th>\n",
              "      <td>MAWEIQSS</td>\n",
              "      <td>8</td>\n",
              "      <td>24</td>\n",
              "    </tr>\n",
              "    <tr>\n",
              "      <th>4</th>\n",
              "      <td>MYLFIFILFIYLFVFETEACSVAQAGVQWRDLGSPQAPPPAFLPFS...</td>\n",
              "      <td>89</td>\n",
              "      <td>267</td>\n",
              "    </tr>\n",
              "    <tr>\n",
              "      <th>...</th>\n",
              "      <td>...</td>\n",
              "      <td>...</td>\n",
              "      <td>...</td>\n",
              "    </tr>\n",
              "    <tr>\n",
              "      <th>175980</th>\n",
              "      <td>MAGRRLVPEWIRIDHHTCTS INSEEVPQGG</td>\n",
              "      <td>31</td>\n",
              "      <td>93</td>\n",
              "    </tr>\n",
              "    <tr>\n",
              "      <th>175981</th>\n",
              "      <td>MHYQPTPPYFCTISSLLCISFQQ</td>\n",
              "      <td>23</td>\n",
              "      <td>69</td>\n",
              "    </tr>\n",
              "    <tr>\n",
              "      <th>175982</th>\n",
              "      <td>MGINNWRSDFKWCRRWPVGDGSRHTGSKRALRSPHVPACGVQPRQC...</td>\n",
              "      <td>76</td>\n",
              "      <td>228</td>\n",
              "    </tr>\n",
              "    <tr>\n",
              "      <th>175983</th>\n",
              "      <td>MAEHRGQAGPVVPGCKQGAPKTGFSDYSGSTRLCAAGDVCLCACTA...</td>\n",
              "      <td>381</td>\n",
              "      <td>1143</td>\n",
              "    </tr>\n",
              "    <tr>\n",
              "      <th>175984</th>\n",
              "      <td>MHTT</td>\n",
              "      <td>4</td>\n",
              "      <td>12</td>\n",
              "    </tr>\n",
              "  </tbody>\n",
              "</table>\n",
              "<p>175985 rows × 3 columns</p>\n",
              "</div>"
            ],
            "text/plain": [
              "                                      amino acid sequence  ...  nucleotides\n",
              "0                                                    MTEE  ...           12\n",
              "1       MKPVLLTASPWSLFVTEGHVFRQDCWVAVFCLLPARPWNSLWGPTL...  ...          207\n",
              "2                                 MTVTSLGSLHVGPPRTGSLRAMM  ...           69\n",
              "3                                                MAWEIQSS  ...           24\n",
              "4       MYLFIFILFIYLFVFETEACSVAQAGVQWRDLGSPQAPPPAFLPFS...  ...          267\n",
              "...                                                   ...  ...          ...\n",
              "175980                    MAGRRLVPEWIRIDHHTCTS INSEEVPQGG  ...           93\n",
              "175981                            MHYQPTPPYFCTISSLLCISFQQ  ...           69\n",
              "175982  MGINNWRSDFKWCRRWPVGDGSRHTGSKRALRSPHVPACGVQPRQC...  ...          228\n",
              "175983  MAEHRGQAGPVVPGCKQGAPKTGFSDYSGSTRLCAAGDVCLCACTA...  ...         1143\n",
              "175984                                               MHTT  ...           12\n",
              "\n",
              "[175985 rows x 3 columns]"
            ]
          },
          "metadata": {
            "tags": []
          },
          "execution_count": 229
        }
      ]
    },
    {
      "cell_type": "code",
      "metadata": {
        "colab": {
          "base_uri": "https://localhost:8080/",
          "height": 594
        },
        "id": "ZVx1HY3epARJ",
        "outputId": "8f0560bd-5f92-4fec-abbd-9163fff31916"
      },
      "source": [
        "# Now that we have our dataframe, let's create a histogram to visualize the\n",
        "  # distribution of protein lengths we found on chromosome 21\n",
        "import matplotlib.pyplot as plt\n",
        "import seaborn as sns\n",
        "sns.set()\n",
        "\n",
        "# Create histogram\n",
        "plt.figure(figsize=(15, 10)) # Adjust scatterplot size\n",
        "ch21code_df['protein length'].plot(kind='hist', bins=100, logy=True, \n",
        "                                   color= 'darkseagreen') # Input data\n",
        "plt.title(\"Protein Lengths in Homo Sapiens Chromosome 21\", fontsize = 20) # Title\n",
        "plt.xlabel(\"Protein Length (Number of Codons)\", fontsize = 15) # x-axis\n",
        "plt.ylabel(\"Frequency\", fontsize = 15) # y-axis\n",
        "sns.set_style('darkgrid')\n",
        "plt.show()"
      ],
      "execution_count": 230,
      "outputs": [
        {
          "output_type": "display_data",
          "data": {
            "image/png": "[encoded data removed]",
            "text/plain": [
              "<Figure size 1080x720 with 1 Axes>"
            ]
          },
          "metadata": {
            "tags": []
          }
        }
      ]
    },
    {
      "cell_type": "markdown",
      "metadata": {
        "id": "QX_I8RZ9r-Qz"
      },
      "source": [
        "The distribution of protein sizes seems to have some outliers: most of the proteins are on the smaller side with fewer than a thousand codons, a few proteins are medium-sized around 15,000 to 20,000 codons, and one protein is very large, around 33,000 codons.\n",
        "\n",
        "To better visualize the data (and especially see the distribution of the smaller proteins better), we can split up the data into small, medium, and large protein sizes in order to get a clearer picture. This will mostly be helpful for the smaller proteins, but we can still get more precise estimate of the sizes of the larger proteins."
      ]
    },
    {
      "cell_type": "code",
      "metadata": {
        "colab": {
          "base_uri": "https://localhost:8080/",
          "height": 436
        },
        "id": "Wda9tG5su0Eh",
        "outputId": "8c726352-11ee-410d-e510-7c43046e367d"
      },
      "source": [
        "# We can split up the data based on protein sizes: small proteins with fewer \n",
        "  #than 10,000 codons, medium-sized proteins between 10,000 and 25,000 codons \n",
        "  # long, and large proteins with more than 25,000 codons\n",
        "\n",
        "# Small Proteins\n",
        "small_proteins_df = ch21code_df.loc[ch21code_df['protein length'] < 10000]\n",
        "print(\"Number of Small Proteins: \" + str(len(small_proteins_df)))\n",
        "small_proteins_df"
      ],
      "execution_count": 231,
      "outputs": [
        {
          "output_type": "stream",
          "text": [
            "Number of Small Proteins: 175979\n"
          ],
          "name": "stdout"
        },
        {
          "output_type": "execute_result",
          "data": {
            "text/html": [
              "<div>\n",
              "<style scoped>\n",
              "    .dataframe tbody tr th:only-of-type {\n",
              "        vertical-align: middle;\n",
              "    }\n",
              "\n",
              "    .dataframe tbody tr th {\n",
              "        vertical-align: top;\n",
              "    }\n",
              "\n",
              "    .dataframe thead th {\n",
              "        text-align: right;\n",
              "    }\n",
              "</style>\n",
              "<table border=\"1\" class=\"dataframe\">\n",
              "  <thead>\n",
              "    <tr style=\"text-align: right;\">\n",
              "      <th></th>\n",
              "      <th>amino acid sequence</th>\n",
              "      <th>protein length</th>\n",
              "      <th>nucleotides</th>\n",
              "    </tr>\n",
              "  </thead>\n",
              "  <tbody>\n",
              "    <tr>\n",
              "      <th>0</th>\n",
              "      <td>MTEE</td>\n",
              "      <td>4</td>\n",
              "      <td>12</td>\n",
              "    </tr>\n",
              "    <tr>\n",
              "      <th>1</th>\n",
              "      <td>MKPVLLTASPWSLFVTEGHVFRQDCWVAVFCLLPARPWNSLWGPTL...</td>\n",
              "      <td>69</td>\n",
              "      <td>207</td>\n",
              "    </tr>\n",
              "    <tr>\n",
              "      <th>2</th>\n",
              "      <td>MTVTSLGSLHVGPPRTGSLRAMM</td>\n",
              "      <td>23</td>\n",
              "      <td>69</td>\n",
              "    </tr>\n",
              "    <tr>\n",
              "      <th>3</th>\n",
              "      <td>MAWEIQSS</td>\n",
              "      <td>8</td>\n",
              "      <td>24</td>\n",
              "    </tr>\n",
              "    <tr>\n",
              "      <th>4</th>\n",
              "      <td>MYLFIFILFIYLFVFETEACSVAQAGVQWRDLGSPQAPPPAFLPFS...</td>\n",
              "      <td>89</td>\n",
              "      <td>267</td>\n",
              "    </tr>\n",
              "    <tr>\n",
              "      <th>...</th>\n",
              "      <td>...</td>\n",
              "      <td>...</td>\n",
              "      <td>...</td>\n",
              "    </tr>\n",
              "    <tr>\n",
              "      <th>175980</th>\n",
              "      <td>MAGRRLVPEWIRIDHHTCTS INSEEVPQGG</td>\n",
              "      <td>31</td>\n",
              "      <td>93</td>\n",
              "    </tr>\n",
              "    <tr>\n",
              "      <th>175981</th>\n",
              "      <td>MHYQPTPPYFCTISSLLCISFQQ</td>\n",
              "      <td>23</td>\n",
              "      <td>69</td>\n",
              "    </tr>\n",
              "    <tr>\n",
              "      <th>175982</th>\n",
              "      <td>MGINNWRSDFKWCRRWPVGDGSRHTGSKRALRSPHVPACGVQPRQC...</td>\n",
              "      <td>76</td>\n",
              "      <td>228</td>\n",
              "    </tr>\n",
              "    <tr>\n",
              "      <th>175983</th>\n",
              "      <td>MAEHRGQAGPVVPGCKQGAPKTGFSDYSGSTRLCAAGDVCLCACTA...</td>\n",
              "      <td>381</td>\n",
              "      <td>1143</td>\n",
              "    </tr>\n",
              "    <tr>\n",
              "      <th>175984</th>\n",
              "      <td>MHTT</td>\n",
              "      <td>4</td>\n",
              "      <td>12</td>\n",
              "    </tr>\n",
              "  </tbody>\n",
              "</table>\n",
              "<p>175979 rows × 3 columns</p>\n",
              "</div>"
            ],
            "text/plain": [
              "                                      amino acid sequence  ...  nucleotides\n",
              "0                                                    MTEE  ...           12\n",
              "1       MKPVLLTASPWSLFVTEGHVFRQDCWVAVFCLLPARPWNSLWGPTL...  ...          207\n",
              "2                                 MTVTSLGSLHVGPPRTGSLRAMM  ...           69\n",
              "3                                                MAWEIQSS  ...           24\n",
              "4       MYLFIFILFIYLFVFETEACSVAQAGVQWRDLGSPQAPPPAFLPFS...  ...          267\n",
              "...                                                   ...  ...          ...\n",
              "175980                    MAGRRLVPEWIRIDHHTCTS INSEEVPQGG  ...           93\n",
              "175981                            MHYQPTPPYFCTISSLLCISFQQ  ...           69\n",
              "175982  MGINNWRSDFKWCRRWPVGDGSRHTGSKRALRSPHVPACGVQPRQC...  ...          228\n",
              "175983  MAEHRGQAGPVVPGCKQGAPKTGFSDYSGSTRLCAAGDVCLCACTA...  ...         1143\n",
              "175984                                               MHTT  ...           12\n",
              "\n",
              "[175979 rows x 3 columns]"
            ]
          },
          "metadata": {
            "tags": []
          },
          "execution_count": 231
        }
      ]
    },
    {
      "cell_type": "code",
      "metadata": {
        "colab": {
          "base_uri": "https://localhost:8080/",
          "height": 221
        },
        "id": "iFC33ajoxXIc",
        "outputId": "55eefb3e-75c1-483f-d44c-119ab5ec73a6"
      },
      "source": [
        "# Medium Proteins\n",
        "medium_proteins_df = ch21code_df.loc[ch21code_df['protein length'] >= 10000]\n",
        "medium_proteins_df = medium_proteins_df.loc[medium_proteins_df['protein length'] <= 25000]\n",
        "print(\"Number of Medium Proteins: \" + str(len(medium_proteins_df)))\n",
        "medium_proteins_df"
      ],
      "execution_count": 232,
      "outputs": [
        {
          "output_type": "stream",
          "text": [
            "Number of Medium Proteins: 5\n"
          ],
          "name": "stdout"
        },
        {
          "output_type": "execute_result",
          "data": {
            "text/html": [
              "<div>\n",
              "<style scoped>\n",
              "    .dataframe tbody tr th:only-of-type {\n",
              "        vertical-align: middle;\n",
              "    }\n",
              "\n",
              "    .dataframe tbody tr th {\n",
              "        vertical-align: top;\n",
              "    }\n",
              "\n",
              "    .dataframe thead th {\n",
              "        text-align: right;\n",
              "    }\n",
              "</style>\n",
              "<table border=\"1\" class=\"dataframe\">\n",
              "  <thead>\n",
              "    <tr style=\"text-align: right;\">\n",
              "      <th></th>\n",
              "      <th>amino acid sequence</th>\n",
              "      <th>protein length</th>\n",
              "      <th>nucleotides</th>\n",
              "    </tr>\n",
              "  </thead>\n",
              "  <tbody>\n",
              "    <tr>\n",
              "      <th>4547</th>\n",
              "      <td>M IXXXXXXXXXXXXXXXXXXXXXXXXXXXXXXXXXXXXXXXXXXX...</td>\n",
              "      <td>16721</td>\n",
              "      <td>50163</td>\n",
              "    </tr>\n",
              "    <tr>\n",
              "      <th>5724</th>\n",
              "      <td>MYVYDLCRXXXXXXXXXXXXXXXXXXXXXXXXXXXXXXXXXXXXXX...</td>\n",
              "      <td>16680</td>\n",
              "      <td>50040</td>\n",
              "    </tr>\n",
              "    <tr>\n",
              "      <th>6482</th>\n",
              "      <td>MVS IXXXXXXXXXXXXXXXXXXXXXXXXXXXXXXXXXXXXXXXXX...</td>\n",
              "      <td>16687</td>\n",
              "      <td>50061</td>\n",
              "    </tr>\n",
              "    <tr>\n",
              "      <th>8289</th>\n",
              "      <td>MQK IXXXXXXXXXXXXXXXXXXXXXXXXXXXXXXXXXXXXXXXXX...</td>\n",
              "      <td>16743</td>\n",
              "      <td>50229</td>\n",
              "    </tr>\n",
              "    <tr>\n",
              "      <th>11358</th>\n",
              "      <td>MPRTVNVLYTIKSRVLSILGXXXXXXXXXXXXXXXXXXXXXXXXXX...</td>\n",
              "      <td>16692</td>\n",
              "      <td>50076</td>\n",
              "    </tr>\n",
              "  </tbody>\n",
              "</table>\n",
              "</div>"
            ],
            "text/plain": [
              "                                     amino acid sequence  ...  nucleotides\n",
              "4547   M IXXXXXXXXXXXXXXXXXXXXXXXXXXXXXXXXXXXXXXXXXXX...  ...        50163\n",
              "5724   MYVYDLCRXXXXXXXXXXXXXXXXXXXXXXXXXXXXXXXXXXXXXX...  ...        50040\n",
              "6482   MVS IXXXXXXXXXXXXXXXXXXXXXXXXXXXXXXXXXXXXXXXXX...  ...        50061\n",
              "8289   MQK IXXXXXXXXXXXXXXXXXXXXXXXXXXXXXXXXXXXXXXXXX...  ...        50229\n",
              "11358  MPRTVNVLYTIKSRVLSILGXXXXXXXXXXXXXXXXXXXXXXXXXX...  ...        50076\n",
              "\n",
              "[5 rows x 3 columns]"
            ]
          },
          "metadata": {
            "tags": []
          },
          "execution_count": 232
        }
      ]
    },
    {
      "cell_type": "code",
      "metadata": {
        "colab": {
          "base_uri": "https://localhost:8080/",
          "height": 80
        },
        "id": "RRK0NhjGyDdW",
        "outputId": "b68db715-5614-4062-9cd9-ca1f8097ebcf"
      },
      "source": [
        "large_protein = ch21code_df.loc[ch21code_df['protein length'] > 25000]\n",
        "large_protein"
      ],
      "execution_count": 233,
      "outputs": [
        {
          "output_type": "execute_result",
          "data": {
            "text/html": [
              "<div>\n",
              "<style scoped>\n",
              "    .dataframe tbody tr th:only-of-type {\n",
              "        vertical-align: middle;\n",
              "    }\n",
              "\n",
              "    .dataframe tbody tr th {\n",
              "        vertical-align: top;\n",
              "    }\n",
              "\n",
              "    .dataframe thead th {\n",
              "        text-align: right;\n",
              "    }\n",
              "</style>\n",
              "<table border=\"1\" class=\"dataframe\">\n",
              "  <thead>\n",
              "    <tr style=\"text-align: right;\">\n",
              "      <th></th>\n",
              "      <th>amino acid sequence</th>\n",
              "      <th>protein length</th>\n",
              "      <th>nucleotides</th>\n",
              "    </tr>\n",
              "  </thead>\n",
              "  <tbody>\n",
              "    <tr>\n",
              "      <th>16362</th>\n",
              "      <td>MAYNQVKYLNTPLFK IXXXXXXXXXXXXXXXXXXXXXXXXXXXXX...</td>\n",
              "      <td>33362</td>\n",
              "      <td>100086</td>\n",
              "    </tr>\n",
              "  </tbody>\n",
              "</table>\n",
              "</div>"
            ],
            "text/plain": [
              "                                     amino acid sequence  ...  nucleotides\n",
              "16362  MAYNQVKYLNTPLFK IXXXXXXXXXXXXXXXXXXXXXXXXXXXXX...  ...       100086\n",
              "\n",
              "[1 rows x 3 columns]"
            ]
          },
          "metadata": {
            "tags": []
          },
          "execution_count": 233
        }
      ]
    },
    {
      "cell_type": "markdown",
      "metadata": {
        "id": "GWJCBw7FyOFy"
      },
      "source": [
        "We can already see from the medium proteins and large protein dataframes that a lot of 'X' denotations were included (the unidentified nucleotides in the sequence), which most likely explains why these proteins are so long in sequence. We can make sure that this is the case, and then disregard these proteins as outliers / unusable data."
      ]
    },
    {
      "cell_type": "code",
      "metadata": {
        "colab": {
          "base_uri": "https://localhost:8080/"
        },
        "id": "RBH9yYyky11g",
        "outputId": "258901ea-199d-4614-a6c7-cf398427e6fd"
      },
      "source": [
        "# Examine sequences of medium-sized proteins for abundance of 'X (unidentified sequence)\n",
        "for protein in medium_proteins_df['amino acid sequence']:\n",
        "  print(protein[:100] + \"\\n\")"
      ],
      "execution_count": 234,
      "outputs": [
        {
          "output_type": "stream",
          "text": [
            "M IXXXXXXXXXXXXXXXXXXXXXXXXXXXXXXXXXXXXXXXXXXXXXXXXXXXXXXXXXXXXXXXXXXXXXXXXXXXXXXXXXXXXXXXXXXXXXXXXX\n",
            "\n",
            "MYVYDLCRXXXXXXXXXXXXXXXXXXXXXXXXXXXXXXXXXXXXXXXXXXXXXXXXXXXXXXXXXXXXXXXXXXXXXXXXXXXXXXXXXXXXXXXXXXXX\n",
            "\n",
            "MVS IXXXXXXXXXXXXXXXXXXXXXXXXXXXXXXXXXXXXXXXXXXXXXXXXXXXXXXXXXXXXXXXXXXXXXXXXXXXXXXXXXXXXXXXXXXXXXXX\n",
            "\n",
            "MQK IXXXXXXXXXXXXXXXXXXXXXXXXXXXXXXXXXXXXXXXXXXXXXXXXXXXXXXXXXXXXXXXXXXXXXXXXXXXXXXXXXXXXXXXXXXXXXXX\n",
            "\n",
            "MPRTVNVLYTIKSRVLSILGXXXXXXXXXXXXXXXXXXXXXXXXXXXXXXXXXXXXXXXXXXXXXXXXXXXXXXXXXXXXXXXXXXXXXXXXXXXXXXXX\n",
            "\n"
          ],
          "name": "stdout"
        }
      ]
    },
    {
      "cell_type": "code",
      "metadata": {
        "colab": {
          "base_uri": "https://localhost:8080/",
          "height": 188
        },
        "id": "WM_Ym4sQzJWl",
        "outputId": "5476470c-4aa5-4f39-e264-56cca0c83e83"
      },
      "source": [
        "# Examine large protein for abundance of 'X' (unidentified sequence)\n",
        "large_protein.at[16362, 'amino acid sequence'][:1000]"
      ],
      "execution_count": 235,
      "outputs": [
        {
          "output_type": "execute_result",
          "data": {
            "application/vnd.google.colaboratory.intrinsic+json": {
              "type": "string"
            },
            "text/plain": [
              "'MAYNQVKYLNTPLFK IXXXXXXXXXXXXXXXXXXXXXXXXXXXXXXXXXXXXXXXXXXXXXXXXXXXXXXXXXXXXXXXXXXXXXXXXXXXXXXXXXXXXXXXXXXXXXXXXXXXXXXXXXXXXXXXXXXXXXXXXXXXXXXXXXXXXXXXXXXXXXXXXXXXXXXXXXXXXXXXXXXXXXXXXXXXXXXXXXXXXXXXXXXXXXXXXXXXXXXXXXXXXXXXXXXXXXXXXXXXXXXXXXXXXXXXXXXXXXXXXXXXXXXXXXXXXXXXXXXXXXXXXXXXXXXXXXXXXXXXXXXXXXXXXXXXXXXXXXXXXXXXXXXXXXXXXXXXXXXXXXXXXXXXXXXXXXXXXXXXXXXXXXXXXXXXXXXXXXXXXXXXXXXXXXXXXXXXXXXXXXXXXXXXXXXXXXXXXXXXXXXXXXXXXXXXXXXXXXXXXXXXXXXXXXXXXXXXXXXXXXXXXXXXXXXXXXXXXXXXXXXXXXXXXXXXXXXXXXXXXXXXXXXXXXXXXXXXXXXXXXXXXXXXXXXXXXXXXXXXXXXXXXXXXXXXXXXXXXXXXXXXXXXXXXXXXXXXXXXXXXXXXXXXXXXXXXXXXXXXXXXXXXXXXXXXXXXXXXXXXXXXXXXXXXXXXXXXXXXXXXXXXXXXXXXXXXXXXXXXXXXXXXXXXXXXXXXXXXXXXXXXXXXXXXXXXXXXXXXXXXXXXXXXXXXXXXXXXXXXXXXXXXXXXXXXXXXXXXXXXXXXXXXXXXXXXXXXXXXXXXXXXXXXXXXXXXXXXXXXXXXXXXXXXXXXXXXXXXXXXXXXXXXXXXXXXXXXXXXXXXXXXXXXXXXXXXXXXXXXXXXXXXXXXXXXXXXXXXXXXXXXXXXXXXXXXXXXXXXXXXXXXXXXXXXXXXXXXXXXXXXXXXXXXXXXXXXXXXXXXXXXXXXXXXXXXXXXXXXXXXXXXXXXXXXXXXXXXXXXXXXXXXXXXXXXXXXXXXXXXXXXXXXXXXXXXXXXXXXXXXXX'"
            ]
          },
          "metadata": {
            "tags": []
          },
          "execution_count": 235
        }
      ]
    },
    {
      "cell_type": "markdown",
      "metadata": {
        "id": "NaZPrupd0n15"
      },
      "source": [
        "We can see that the protein sequences for medium-size and large proteins for the most part consist of 'X', so we'll ignore these protein sequences, and create another histogram to better visualize the smaller proteins.\n"
      ]
    },
    {
      "cell_type": "code",
      "metadata": {
        "colab": {
          "base_uri": "https://localhost:8080/",
          "height": 605
        },
        "id": "oDKGddoF0-sJ",
        "outputId": "e279808e-c5c1-4eea-a249-d30d577d7fcf"
      },
      "source": [
        "# Histogram, excluding the large proteins with unidentified sequence data\n",
        "\n",
        "# Create histogram\n",
        "plt.figure(figsize=(15, 10)) # Adjust scatterplot size\n",
        "small_proteins_df['protein length'].plot(kind='hist', bins=100, logy=True, \n",
        "                                   color= 'c') # Input data\n",
        "plt.title(\"Protein Lengths in Homo Sapiens Chromosome 21\", fontsize = 20) # Title\n",
        "plt.xlabel(\"Protein Length (Number of Codons)\", fontsize = 15) # x-axis\n",
        "plt.ylabel(\"Frequency\", fontsize = 15) # y-axis\n",
        "sns.set_style('darkgrid')\n",
        "plt.show()"
      ],
      "execution_count": 236,
      "outputs": [
        {
          "output_type": "display_data",
          "data": {
            "image/png": "[encoded data removed]",
            "text/plain": [
              "<Figure size 1080x720 with 1 Axes>"
            ]
          },
          "metadata": {
            "tags": []
          }
        }
      ]
    },
    {
      "cell_type": "markdown",
      "metadata": {
        "id": "tf8V31aV3rz7"
      },
      "source": [
        "This distribution looks a lot better. While there are still thousands of proteins that we synthesized from the DNA and mRNA sequences (and chromosome 21 has been found to only have between 200 and 300 genes), it is highly unlikely that there would be such a huge number of proteins encoded on the smallest chromosome in the human genome."
      ]
    },
    {
      "cell_type": "markdown",
      "metadata": {
        "id": "wdXIoMvTpa6P"
      },
      "source": [
        "\n",
        "\n",
        "---\n",
        "\n",
        "\n",
        "# Insights & Wrap Up"
      ]
    },
    {
      "cell_type": "markdown",
      "metadata": {
        "id": "ORPSNdI51wZv"
      },
      "source": [
        "Like mentioned previously, the encoding of genetic information, gene expression, and protein synthesis along the central dogma of molecular biology is very complex, and we'd need to go into a much deeper biology-focused and detailed approach in order to gain a higher level of understanding of the genetic information encoded in the DNA sequences.\n",
        "\n",
        "Luckily, there is a large amount of openly available genetic sequence information in various genome databases. Besides from the FASTA format of raw genetic sequence, lots of other sequencing formats provide various kinds of information, from numbers of genes already detailed in the data files, for example, to additional information on proteins, and much more. There's a vast pool of genetic information that can be explored and analyzed, and hopefully this tutorial was a nice first stepping stone into your exploration of genomics and has peaked your curiosity to explore further. Happy learning!"
      ]
    },
    {
      "cell_type": "markdown",
      "metadata": {
        "id": "Smom1bS8-Tgo"
      },
      "source": [
        "<center> <img src=\"https://www.careergirls.org/wp-content/uploads/2018/03/Genetiscs1440x1000.jpg\" /> </center>"
      ]
    },
    {
      "cell_type": "markdown",
      "metadata": {
        "id": "1izOF0RPUoGl"
      },
      "source": [
        "---\n",
        "\n",
        "Learning Resources: \n",
        "\n",
        "Linked in tutorial:\n",
        "\n",
        "1.   DNA Structure and Function: https://www.khanacademy.org/test-prep/mcat/biomolecules/dna/a/dna-structure-and-function\n",
        "2.   Chromosomes (46 - a magical number!): http://www.genesandhealth.org/genes-your-health/46-%E2%80%93-magical-number\n",
        "3.   Interpretation of Sequencing Chromatograms: https://biology.unt.edu/~jajohnson/Chromatogram_Interpretation\n",
        "4.   Intro to Gene Expression (Central Dogma): https://www.khanacademy.org/science/high-school-biology/hs-molecular-genetics/hs-rna-and-protein-synthesis/a/intro-to-gene-expression-central-dogma\n",
        "\n",
        "Additional resources:\n",
        "\n",
        "5.   Learn Genetics (Genetic Science Learning Center): https://learn.genetics.utah.edu/\n",
        "2.   A Comprehensive Introduction to Your Genome with the SciPy Stack: https://www.toptal.com/python/comprehensive-introduction-your-genome-scipy\n",
        "\n",
        "\n",
        "\n",
        "\n",
        "\n",
        "\n",
        "\n",
        "\n"
      ]
    }
  ]
}